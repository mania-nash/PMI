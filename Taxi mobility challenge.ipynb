{
 "cells": [
  {
   "cell_type": "markdown",
   "metadata": {},
   "source": [
    "# Taxi mobility challenge"
   ]
  },
  {
   "cell_type": "markdown",
   "metadata": {},
   "source": [
    "Heavy traffic can cause noise and atmospheric pollution. Optimizing the transportation system can therefore help in\n",
    "improving the quality of citizens’ lives, both by facilitating their mobility and ensuring their health. \n",
    "\n",
    "In this challenge we address this problem by estimating the pollution reduction when the taxicab fleet changes from combustion engine-powered vehicles to electric vehicles and by predicting when the next taxi pick up will happen. Additionally, we identify hot spots per time of the day that can help the taxi companies optimizing their taxi rides.\n",
    "\n",
    "More specifically, we answer the following questions:\n",
    "1. Calculate the potential for a yearly reduction in CO2 emissions, caused by the taxi cabs roaming without passengers. Assume that the taxicab fleet is changing at the rate of 15% per month (from combustion engine-powered vehicles to electric vehicles). Assume also that the average passenger vehicle emits about 404 grams of CO2 per mile.\n",
    "\n",
    "2. Build a predictor for taxi drivers, predicting the next place a passenger will hail a cab.\n",
    "\n",
    "3. Identify clusters of taxi cabs that you find being relevant from the taxi cab company point of view."
   ]
  },
  {
   "cell_type": "markdown",
   "metadata": {},
   "source": [
    "## Library import"
   ]
  },
  {
   "cell_type": "code",
   "execution_count": null,
   "metadata": {},
   "outputs": [],
   "source": [
    "import pandas as pd\n",
    "import numpy as np\n",
    "import glob\n",
    "import geopy.distance\n",
    "\n",
    "from sklearn.model_selection import train_test_split\n",
    "from sklearn.ensemble import RandomForestRegressor\n",
    "from sklearn.metrics import mean_squared_error\n",
    "\n",
    "import seaborn as sns\n",
    "import matplotlib\n",
    "import matplotlib.pyplot as plt\n",
    "from matplotlib.ticker import  MultipleLocator, FormatStrFormatter\n",
    "plt.rcParams[\"figure.figsize\"] = [12, 8]\n",
    "plt.rcParams[\"figure.dpi\"] = 100\n",
    "\n",
    "import copy\n",
    "from matplotlib.colors import LogNorm"
   ]
  },
  {
   "cell_type": "markdown",
   "metadata": {},
   "source": [
    "## Functions"
   ]
  },
  {
   "cell_type": "code",
   "execution_count": null,
   "metadata": {},
   "outputs": [],
   "source": [
    "def split_data(df, ind):\n",
    "    \"\"\"\n",
    "    This function splits a dataframe by provided indexes.\n",
    "    \n",
    "    Inputs:\n",
    "    - df: the dataframe to be splitted\n",
    "    - ind: the indexes that the dataframe should be splitted upon\n",
    "    \n",
    "    Output:\n",
    "    List of dataframes splitted on the specified indexes\n",
    "    \"\"\"\n",
    "    dfs = []\n",
    "    j = 0\n",
    "    for val in ind:\n",
    "        if j == 0:\n",
    "            temp = df.iloc[:val]\n",
    "            dfs.append(temp)\n",
    "        elif j == len(ind):\n",
    "            temp = df.iloc[val]\n",
    "            dfs.append(temp)        \n",
    "        else:\n",
    "            temp = df.iloc[ind[j-1]:val]\n",
    "            dfs.append(temp)\n",
    "        j += 1\n",
    "    return dfs"
   ]
  },
  {
   "cell_type": "markdown",
   "metadata": {},
   "source": [
    "## Data import"
   ]
  },
  {
   "cell_type": "code",
   "execution_count": null,
   "metadata": {
    "scrolled": true
   },
   "outputs": [],
   "source": [
    "# Read multiple files in a loop\n",
    "path = r\"C:\\Users\\MNIX22\\Documents\\Projects\\PMI\\cabspottingdata\"\n",
    "all_files = glob.glob(path + \"/*.txt\")\n",
    "\n",
    "cabs = []\n",
    "\n",
    "for filename in all_files:\n",
    "    cab_df = pd.read_csv(filename, index_col=None, header=None, sep=' ')\n",
    "    cab_df.columns = [\"latitude\", \"longitude\", \"occupancy\", \"time\"] # assign column names \n",
    "\n",
    "    cabs.append(cab_df)"
   ]
  },
  {
   "cell_type": "markdown",
   "metadata": {},
   "source": [
    "## Data validity checks"
   ]
  },
  {
   "cell_type": "code",
   "execution_count": null,
   "metadata": {},
   "outputs": [],
   "source": [
    "cabs[0].describe()"
   ]
  },
  {
   "cell_type": "code",
   "execution_count": null,
   "metadata": {},
   "outputs": [],
   "source": [
    "cabs[0].isna().any()"
   ]
  },
  {
   "cell_type": "markdown",
   "metadata": {},
   "source": [
    "## 1. CO2 emissions reduction"
   ]
  },
  {
   "cell_type": "markdown",
   "metadata": {},
   "source": [
    "To calculate the CO2 emission reduction caused by taxi cabs roaming without passengers, the first step is to calculate the time that each cab drives with no occupancy.\n",
    "\n",
    "To do so, we assume that if there are no data from 15 minutes or more, then the taxi is \"on a break\". This means that we separate taxis' trajectories based on that assumption."
   ]
  },
  {
   "cell_type": "code",
   "execution_count": null,
   "metadata": {},
   "outputs": [],
   "source": [
    "# Calculate miles per cab\n",
    "miles_per_cab = []\n",
    "for i in range(len(cabs)):\n",
    "    total_miles = 0\n",
    "    cabs_temp = cabs[i].copy()  \n",
    "\n",
    "    # Variable creation\n",
    "    cabs_temp[\"date_time\"] = pd.to_datetime(cabs_temp[\"time\"],unit='s').dt.tz_localize(\"UTC\").dt.tz_convert(\"America/Los_Angeles\")\n",
    "    cabs_temp[\"date_time_diff\"] = cabs_temp[\"date_time\"].diff()\n",
    "    cabs_temp[\"coordinates\"] = list(zip(cabs_temp.latitude, cabs_temp.longitude))\n",
    "    cabs_temp[\"occupancy_change\"] = cabs_temp[\"occupancy\"].diff()\n",
    "    cabs_temp[\"ind\"] = cabs_temp.index\n",
    "\n",
    "    # Split data on single \"ride\"\n",
    "    # If there are no data in 15 minute and more then assume the taxi is not \"active\"\n",
    "    route_ind = cabs_temp[cabs_temp[\"date_time_diff\"].dt.total_seconds()/60 >= 15].index.values.tolist()\n",
    "    route_ind.append(cabs_temp.index[-1])\n",
    "    route_data = split_data(cabs_temp, route_ind)\n",
    "\n",
    "    # Split data with no occupancy\n",
    "    for single_route in range(len(route_data)):\n",
    "        no_occ = route_data[single_route][route_data[single_route][\"occupancy\"] == 0].copy()\n",
    "        if len(no_occ) > 0:\n",
    "            no_occ[\"ind_diff\"] = no_occ[\"ind\"].diff()\n",
    "            occupancy_index = no_occ[no_occ[\"ind_diff\"] > 1].index.values.tolist()\n",
    "            occupancy_index.append(no_occ.index[-1])\n",
    "            occupancy_data = split_data(no_occ, occupancy_index)\n",
    "            \n",
    "            # Travelled miles no occupancy\n",
    "            for miles in range(len(occupancy_data)):\n",
    "                if len(occupancy_data[miles]) > 0:\n",
    "                    coords_1 = occupancy_data[miles][\"coordinates\"].iloc[0]\n",
    "                    coords_2 = occupancy_data[miles][\"coordinates\"].iloc[-1]\n",
    "                    total_miles = total_miles + geopy.distance.geodesic(coords_1, coords_2).miles\n",
    "\n",
    "    miles_per_cab.append(total_miles)"
   ]
  },
  {
   "cell_type": "code",
   "execution_count": null,
   "metadata": {},
   "outputs": [],
   "source": [
    "# Calculate emissions based on cabs change\n",
    "emissions = 0\n",
    "for months in range(12):\n",
    "    emissions = emissions + 0.85**months*len(cabs)*np.mean(miles_per_cab)*404\n",
    "emissions"
   ]
  },
  {
   "cell_type": "code",
   "execution_count": null,
   "metadata": {},
   "outputs": [],
   "source": [
    "# Calculate the difference of emissions\n",
    "12*len(cabs)*np.mean(miles_per_cab)*404 - emissions"
   ]
  },
  {
   "cell_type": "markdown",
   "metadata": {},
   "source": [
    "## 2. Pick up point prediction"
   ]
  },
  {
   "cell_type": "markdown",
   "metadata": {},
   "source": [
    "### Exploratory data analysis"
   ]
  },
  {
   "cell_type": "code",
   "execution_count": null,
   "metadata": {},
   "outputs": [],
   "source": [
    "# Number of fares per cab\n",
    "\n",
    "fares = []\n",
    "fares_df = []\n",
    "for cab in range(len(cabs)):\n",
    "    cabs_test = cabs[cab].copy()   \n",
    "    cabs_test[\"occupancy_change\"] = cabs_test[\"occupancy\"].diff()\n",
    "    fares.append(len(cabs_test[cabs_test[\"occupancy_change\"] == 1]))\n",
    "    fares_df.append(cabs_test[cabs_test[\"occupancy_change\"] == 1])\n",
    "    \n",
    "sns.distplot(fares, kde=False, color = \"blue\", bins=20)\n",
    "plt.xlabel(\"Number of fares per cab\")"
   ]
  },
  {
   "cell_type": "markdown",
   "metadata": {},
   "source": [
    "We see that most of the cabs have ~1000 fares within a month. There are just a few cabs that have more than 1200 fares in a month."
   ]
  },
  {
   "cell_type": "code",
   "execution_count": null,
   "metadata": {},
   "outputs": [],
   "source": [
    "# Nr of fares per weekday\n",
    "cabs_test = pd.concat(fares_df) \n",
    "cabs_test[\"date_time\"] = pd.to_datetime(cabs_test[\"time\"],unit=\"s\").dt.tz_localize(\"UTC\").dt.tz_convert(\"America/Los_Angeles\")\n",
    "cabs_test[\"weekday\"] = cabs_test[\"date_time\"].dt.day_name()\n",
    "\n",
    "sns.countplot(cabs_test[\"weekday\"])\n",
    "plt.xticks(fontsize=8)\n",
    "plt.xlabel(\"Day of the week\")\n",
    "plt.show()"
   ]
  },
  {
   "cell_type": "markdown",
   "metadata": {},
   "source": [
    "We see that most of the fares occur during the weekend. Nothing surprising here since it is connected to the people having free time and going out for entertainment."
   ]
  },
  {
   "cell_type": "code",
   "execution_count": null,
   "metadata": {
    "scrolled": true
   },
   "outputs": [],
   "source": [
    "# Nr of fares per hour\n",
    "cabs_test[\"hour\"] = cabs_test[\"date_time\"].dt.hour\n",
    "\n",
    "sns.countplot(cabs_test[\"hour\"])\n",
    "plt.gca().xaxis.set_major_locator(MultipleLocator(10))\n",
    "plt.gca().xaxis.set_major_formatter(FormatStrFormatter('%d'))\n",
    "plt.xlabel(\"Hour of the Day\")\n",
    "plt.show()"
   ]
  },
  {
   "cell_type": "markdown",
   "metadata": {},
   "source": [
    "We see that most of the fares occur during the nighttime hours. Nothing surprising here since it is connected to the people going out for entertainment."
   ]
  },
  {
   "cell_type": "code",
   "execution_count": null,
   "metadata": {},
   "outputs": [],
   "source": [
    "# Nr of fares per day and time\n",
    "# Retructuring data\n",
    "restr_data = cabs_test.groupby([\"hour\", \"weekday\"]).sum()[\"occupancy\"].unstack()\n",
    "\n",
    "## Reordering columns\n",
    "restr_data = restr_data[['Monday', 'Tuesday', 'Wednesday', 'Thursday', 'Friday', 'Saturday', 'Sunday']]\n",
    "sns.heatmap(restr_data, cmap=\"Reds\")"
   ]
  },
  {
   "attachments": {},
   "cell_type": "markdown",
   "metadata": {},
   "source": [
    "We see that most of the fares occur during the Friday and Saturday nighttime hours. Very few fares occur in the early hours, while we see some occurrence during the work commuting hours."
   ]
  },
  {
   "cell_type": "code",
   "execution_count": null,
   "metadata": {},
   "outputs": [],
   "source": [
    "# Duration of \"idle\" time\n",
    "dur = []\n",
    "for cab in range(len(cabs)):\n",
    "    cabs_test = cabs[cab].copy()\n",
    "    \n",
    "    if cabs_test[\"occupancy\"][0] == 1:\n",
    "        cabs_test = cabs_test.iloc[1:]\n",
    "    \n",
    "    cabs_test[\"occupancy_change\"] = cabs_test[\"occupancy\"].diff()\n",
    "    cabs_test[\"date_time\"] = pd.to_datetime(cabs_test[\"time\"],unit=\"s\").dt.tz_localize(\"UTC\").dt.tz_convert(\"America/Los_Angeles\")\n",
    "    temp = cabs_test[cabs_test[\"occupancy_change\"] != 0].copy()\n",
    "    temp[\"duration\"] = temp[\"date_time\"].diff()\n",
    "    dur.append(temp[temp[\"occupancy_change\"] == -1][\"duration\"])\n",
    "    \n",
    "duration = pd.concat(dur) / np.timedelta64(1, \"m\")\n",
    "\n",
    "sns.distplot(duration, kde=False, color=\"blue\")\n",
    "plt.xlabel(\"Duration of idle time in minutes\")"
   ]
  },
  {
   "cell_type": "code",
   "execution_count": null,
   "metadata": {},
   "outputs": [],
   "source": [
    "sorted(duration, reverse = True)"
   ]
  },
  {
   "cell_type": "code",
   "execution_count": null,
   "metadata": {},
   "outputs": [],
   "source": [
    "# Duration of trip time\n",
    "dur = []\n",
    "for cab in range(len(cabs)):\n",
    "    cabs_test = cabs[cab].copy()\n",
    "    \n",
    "    if cabs_test[\"occupancy\"][0] == 1:\n",
    "        cabs_test = cabs_test.iloc[1:]\n",
    "    \n",
    "    cabs_test[\"occupancy_change\"] = cabs_test[\"occupancy\"].diff()\n",
    "    cabs_test[\"date_time\"] = pd.to_datetime(cabs_test[\"time\"],unit=\"s\").dt.tz_localize(\"UTC\").dt.tz_convert(\"America/Los_Angeles\")\n",
    "    temp = cabs_test[cabs_test[\"occupancy_change\"] != 0].copy()\n",
    "    temp[\"duration\"] = temp[\"date_time\"].diff()\n",
    "    dur.append(temp[temp[\"occupancy_change\"] == 1][\"duration\"])\n",
    "    \n",
    "duration = pd.concat(dur) / np.timedelta64(1, \"m\")\n",
    "\n",
    "sns.distplot(duration, kde=False, color=\"blue\")\n",
    "plt.xlabel(\"Duration of trips in minutes\")"
   ]
  },
  {
   "cell_type": "code",
   "execution_count": null,
   "metadata": {},
   "outputs": [],
   "source": [
    "sorted(duration, reverse = True)"
   ]
  },
  {
   "cell_type": "markdown",
   "metadata": {},
   "source": [
    "### Data preparation"
   ]
  },
  {
   "cell_type": "markdown",
   "metadata": {},
   "source": [
    "Create the necessary variables for the model."
   ]
  },
  {
   "cell_type": "code",
   "execution_count": null,
   "metadata": {},
   "outputs": [],
   "source": [
    "rides = []\n",
    "for cab in range(len(cabs)):\n",
    "    cabs_test = cabs[cab].copy()\n",
    "    \n",
    "    if cabs_test[\"occupancy\"][0] == 1:\n",
    "        cabs_test = cabs_test.iloc[1:]\n",
    "        \n",
    "    cabs_test[\"date_time\"] = pd.to_datetime(cabs_test[\"time\"],unit=\"s\").dt.tz_localize(\"UTC\").dt.tz_convert(\"America/Los_Angeles\")\n",
    "    cabs_test[\"hour\"] = cabs_test[\"date_time\"].dt.hour\n",
    "\n",
    "    cabs_test[\"occupancy_change\"] = cabs_test[\"occupancy\"].diff()\n",
    "    cabs_temp = cabs_test[cabs_test[\"occupancy_change\"] != 0].copy()\n",
    "    cabs_temp[\"duration\"] = cabs_temp[\"date_time\"].diff() / np.timedelta64(1, \"m\")\n",
    "    # delete trip if > 180 minutes\n",
    "    if len(cabs_temp[(cabs_temp.duration > 50) & (\"occupancy_change\" == -1)].index) > 0:\n",
    "        idx = cabs_temp[(cabs_temp.duration > 50)].index\n",
    "        idx_1 = idx - 1\n",
    "        idx.append(idx_1)\n",
    "        cabs_temp.drop(idx, inplace=True)\n",
    "\n",
    "    cabs_temp.drop([\"time\", \"occupancy_change\"], axis=1, inplace = True)\n",
    "    temp = pd.concat([cabs_temp, cabs_temp[\"latitude\"].shift(), cabs_temp[\"longitude\"].shift(), cabs_temp[\"latitude\"].shift(2), cabs_temp[\"longitude\"].shift(2), cabs_temp[\"latitude\"].shift(3), cabs_temp[\"longitude\"].shift(3), cabs_temp[\"latitude\"].shift(4), cabs_temp[\"longitude\"].shift(4)], axis=1).copy()\n",
    "    temp.columns = [\"latitude\", \"longitude\", \"occupancy\", \"date_time\", \"day\", \"hour\", \"weekday\", \"duration\", 'latitude_1', 'longitude_1', 'latitude_2', 'longitude_2', 'latitude_3', 'longitude_3', 'latitude_4', 'longitude_4']\n",
    "\n",
    "    rides.append(temp) #rides per cab"
   ]
  },
  {
   "cell_type": "code",
   "execution_count": null,
   "metadata": {},
   "outputs": [],
   "source": [
    "all_rides = pd.concat(rides)\n",
    "pick_up = all_rides[all_rides[\"occupancy\"] == 1].copy()\n",
    "pick_up.dropna(inplace = True)"
   ]
  },
  {
   "cell_type": "code",
   "execution_count": null,
   "metadata": {},
   "outputs": [],
   "source": [
    "X = pick_up.drop([\"latitude\", \"longitude\", \"occupancy\", \"date_time\", \"duration\"], axis = 1)\n",
    "y = pick_up[[\"latitude\",\"longitude\"]].copy()"
   ]
  },
  {
   "cell_type": "markdown",
   "metadata": {},
   "source": [
    "Create train and test data"
   ]
  },
  {
   "cell_type": "code",
   "execution_count": null,
   "metadata": {},
   "outputs": [],
   "source": [
    "X_train, X_test, y_train, y_test = train_test_split(X, y, test_size=0.3, random_state=1)"
   ]
  },
  {
   "cell_type": "code",
   "execution_count": null,
   "metadata": {},
   "outputs": [],
   "source": [
    "# random forest for multioutput regression\n",
    "from sklearn.ensemble import RandomForestRegressor\n",
    "# define model\n",
    "model = RandomForestRegressor(n_estimators=100, random_state=1)\n",
    "# fit model\n",
    "model.fit(X_train, y_train)"
   ]
  },
  {
   "cell_type": "code",
   "execution_count": null,
   "metadata": {},
   "outputs": [],
   "source": [
    "y_train_pred = model.predict(X_train)\n",
    "y_test_pred = model.predict(X_test)"
   ]
  },
  {
   "cell_type": "code",
   "execution_count": null,
   "metadata": {},
   "outputs": [],
   "source": [
    "print(\"Mean Square Error on training Data:{}\".format(mean_squared_error(y_train, y_train_pred)))\n",
    "print(\"Mean Square Error on testing Data:{}\".format(mean_squared_error(y_test, y_test_pred)))"
   ]
  },
  {
   "cell_type": "code",
   "execution_count": null,
   "metadata": {
    "scrolled": true
   },
   "outputs": [],
   "source": [
    "plt.barh(X_train.columns, model.feature_importances_)"
   ]
  },
  {
   "cell_type": "code",
   "execution_count": null,
   "metadata": {},
   "outputs": [],
   "source": [
    "y_test[\"coordinates\"] = list(zip(y_test.latitude, y_test.longitude))\n",
    "pred = pd.DataFrame(data = y_test_pred, columns=[\"latitude\", \"longitude\"])\n",
    "pred[\"coordinates\"] = list(zip(pred.latitude, pred.longitude))\n",
    "\n",
    "distance_error = []\n",
    "for i in range(len(pred)):\n",
    "    distance_error.append(geopy.distance.geodesic(y_test[\"coordinates\"].iloc[i], pred[\"coordinates\"].iloc[i]).miles)"
   ]
  },
  {
   "cell_type": "code",
   "execution_count": null,
   "metadata": {},
   "outputs": [],
   "source": [
    "sns.distplot(distance_error, kde=False, color=\"blue\")\n",
    "plt.xlabel(\"Distance error in miles\")"
   ]
  },
  {
   "cell_type": "code",
   "execution_count": null,
   "metadata": {},
   "outputs": [],
   "source": [
    "print(\"Distance error in miles:{}\".format(np.mean(distance_error)))"
   ]
  }
 ],
 "metadata": {
  "kernelspec": {
   "display_name": "Python 3",
   "language": "python",
   "name": "python3"
  },
  "language_info": {
   "codemirror_mode": {
    "name": "ipython",
    "version": 3
   },
   "file_extension": ".py",
   "mimetype": "text/x-python",
   "name": "python",
   "nbconvert_exporter": "python",
   "pygments_lexer": "ipython3",
   "version": "3.7.9"
  }
 },
 "nbformat": 4,
 "nbformat_minor": 4
}
